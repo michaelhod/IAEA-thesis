{
 "cells": [
  {
   "cell_type": "code",
   "execution_count": 1,
   "id": "8bde6ac9",
   "metadata": {},
   "outputs": [],
   "source": [
    "import sys\n",
    "sys.path.insert(1, r\"C:\\\\Users\\\\micha\\\\Documents\\\\Imperial Courses\\\\Thesis\\\\IAEA-thesis\")\n",
    "from Stage1.GAT.GATModel import GraphAttentionNetwork\n",
    "from Single_Website_Download.Download import main\n",
    "import torch\n",
    "from Stage1.ExtractingGraphs.HTMLtoGraph import html_to_graph, EdgeFeatures\n",
    "from Stage1.ExtractingGraphs.seleniumDriver import *\n",
    "from Stage1.ExtractingLabels.swde_label_extraction import *\n",
    "from Stage2.txtGraphs.textExtractor import extract_chunk_xpaths\n",
    "from Stage2.txtGraphs.extract_mini_txt_graphs_helper import main as txtExtractor\n",
    "from Stage1.tree_helpers import *\n",
    "from pathlib import Path\n",
    "from scipy import sparse\n",
    "import numpy as np\n",
    "from collections import defaultdict\n",
    "import matplotlib.pyplot as plt\n",
    "\n",
    "device = \"cuda\" if torch.cuda.is_available() else \"cpu\""
   ]
  },
  {
   "cell_type": "code",
   "execution_count": 2,
   "id": "66d4a363",
   "metadata": {},
   "outputs": [
    {
     "data": {
      "text/plain": [
       "GraphAttentionNetwork(\n",
       "  (tr1): TransformerConv(114, 32, heads=2)\n",
       "  (ln1): LayerNorm((64,), eps=1e-05, elementwise_affine=True)\n",
       "  (tr2): TransformerConv(64, 32, heads=1)\n",
       "  (ln2): LayerNorm((32,), eps=1e-05, elementwise_affine=True)\n",
       "  (tr3): TransformerConv(32, 8, heads=1)\n",
       "  (edge_mlp): Sequential(\n",
       "    (0): Linear(in_features=48, out_features=8, bias=True)\n",
       "    (1): ReLU()\n",
       "    (2): Linear(in_features=8, out_features=1, bias=True)\n",
       "  )\n",
       ")"
      ]
     },
     "execution_count": 2,
     "metadata": {},
     "output_type": "execute_result"
    }
   ],
   "source": [
    "#Import model\n",
    "model = GraphAttentionNetwork(in_dim = 114, edge_in_dim = 200, edge_emb_dim = 32, hidden1 = 32, hidden2 = 32, hidden3 = 8, heads = 2)\n",
    "state_dict = torch.load(\"../../Stage1/GAT/FULLTRAINEDALLDATAModelf1-75-learning.pt\", map_location=torch.device(device))\n",
    "model.load_state_dict(state_dict)\n",
    "model.to(device)"
   ]
  },
  {
   "cell_type": "code",
   "execution_count": 10,
   "id": "270a3556",
   "metadata": {},
   "outputs": [],
   "source": [
    "url = \"\"\n",
    "htmlFile = \"C:\\\\Users\\\\micha\\\\Documents\\\\Imperial Courses\\\\Thesis\\\\IAEA-thesis\\\\data\\\\swde\\\\sourceCode\\\\sourceCode\\\\movie\\\\movie\\\\movie-allmovie(2000)\\\\0000.htm\"\n",
    "# url = r\"https://www.nucnet.org/news/parliament-resolution-paves-way-for-establishing-nuclear-energy-legislation-6-4-2024\"\n",
    "# htmlFile = Path(\"C:/Users/micha/Documents/Imperial Courses/Thesis/IAEA-thesis/data/websites/test.html\")\n",
    "# main(url,1,htmlFile)"
   ]
  },
  {
   "cell_type": "code",
   "execution_count": 11,
   "id": "559296e5",
   "metadata": {},
   "outputs": [
    {
     "name": "stdout",
     "output_type": "stream",
     "text": [
      "[[280 279]\n",
      " [560 559]\n",
      " [561 559]\n",
      " [301 302]\n",
      " [387 386]\n",
      " [560 561]\n",
      " [402 403]\n",
      " [559 562]\n",
      " [560 562]\n",
      " [559 563]]\n",
      "[['/html/body/div/div[3]/table/tbody/tr/td[1]/table/tbody/tr[2]/td/table/tbody/tr/td[2]/div/table[3]/tbody/tr[2]/td[2]', '/html/body/div/div[3]/table/tbody/tr/td[1]/table/tbody/tr[2]/td/table/tbody/tr/td[2]/div/table[3]/tbody/tr[2]/td[1]'], ['/html/body/div/div[3]/table/tbody/tr/td[1]/table/tbody/tr[2]/td/table/tbody/tr/td[1]/table[2]/tbody/tr[11]/td/table/tbody/tr[3]/td/div/ul/li[2]', '/html/body/div/div[3]/table/tbody/tr/td[1]/table/tbody/tr[2]/td/table/tbody/tr/td[1]/table[2]/tbody/tr[11]/td/table/tbody/tr[3]/td/div/ul/li[1]'], ['/html/body/div/div[3]/table/tbody/tr/td[1]/table/tbody/tr[2]/td/table/tbody/tr/td[1]/table[2]/tbody/tr[11]/td/table/tbody/tr[3]/td/div/ul/li[3]', '/html/body/div/div[3]/table/tbody/tr/td[1]/table/tbody/tr[2]/td/table/tbody/tr/td[1]/table[2]/tbody/tr[11]/td/table/tbody/tr[3]/td/div/ul/li[1]'], ['/html/body/div/div[3]/table/tbody/tr/td[1]/table/tbody/tr[2]/td/table/tbody/tr/td[2]/div/div/table/tbody/tr[1]/td[1]', '/html/body/div/div[3]/table/tbody/tr/td[1]/table/tbody/tr[2]/td/table/tbody/tr/td[2]/div/div/table/tbody/tr[1]/td[2]'], ['/html/body/div/div[3]/table/tbody/tr/td[1]/table/tbody/tr[2]/td/table/tbody/tr/td[1]/table[2]/tbody/tr[2]/td/table/tbody/tr[2]/td[2]', '/html/body/div/div[3]/table/tbody/tr/td[1]/table/tbody/tr[2]/td/table/tbody/tr/td[1]/table[2]/tbody/tr[2]/td/table/tbody/tr[2]/td[1]'], ['/html/body/div/div[3]/table/tbody/tr/td[1]/table/tbody/tr[2]/td/table/tbody/tr/td[1]/table[2]/tbody/tr[11]/td/table/tbody/tr[3]/td/div/ul/li[2]', '/html/body/div/div[3]/table/tbody/tr/td[1]/table/tbody/tr[2]/td/table/tbody/tr/td[1]/table[2]/tbody/tr[11]/td/table/tbody/tr[3]/td/div/ul/li[3]'], ['/html/body/div/div[3]/table/tbody/tr/td[1]/table/tbody/tr[2]/td/table/tbody/tr/td[1]/table[2]/tbody/tr[6]/td/table/tbody/tr[2]/td[1]', '/html/body/div/div[3]/table/tbody/tr/td[1]/table/tbody/tr[2]/td/table/tbody/tr/td[1]/table[2]/tbody/tr[6]/td/table/tbody/tr[2]/td[2]'], ['/html/body/div/div[3]/table/tbody/tr/td[1]/table/tbody/tr[2]/td/table/tbody/tr/td[1]/table[2]/tbody/tr[11]/td/table/tbody/tr[3]/td/div/ul/li[1]', '/html/body/div/div[3]/table/tbody/tr/td[1]/table/tbody/tr[2]/td/table/tbody/tr/td[1]/table[2]/tbody/tr[11]/td/table/tbody/tr[3]/td/div/ul/li[4]'], ['/html/body/div/div[3]/table/tbody/tr/td[1]/table/tbody/tr[2]/td/table/tbody/tr/td[1]/table[2]/tbody/tr[11]/td/table/tbody/tr[3]/td/div/ul/li[2]', '/html/body/div/div[3]/table/tbody/tr/td[1]/table/tbody/tr[2]/td/table/tbody/tr/td[1]/table[2]/tbody/tr[11]/td/table/tbody/tr[3]/td/div/ul/li[4]'], ['/html/body/div/div[3]/table/tbody/tr/td[1]/table/tbody/tr[2]/td/table/tbody/tr/td[1]/table[2]/tbody/tr[11]/td/table/tbody/tr[3]/td/div/ul/li[1]', '/html/body/div/div[3]/table/tbody/tr/td[1]/table/tbody/tr[2]/td/table/tbody/tr/td[1]/table[2]/tbody/tr[11]/td/table/tbody/tr[3]/td/div/ul/li[5]']]\n",
      "[['The War Zone\\xa0 \\n\\t\\t\\t\\t\\t\\t\\t\\t\\t\\t\\t\\t\\t\\t\\t\\t\\t\\t\\t\\t\\t\\t\\t\\t\\t\\t\\t\\t\\t(1999, Tim Roth)', 'Is related to:'], ['addict', 'accident'], ['drugs', 'accident'], ['Plot Synopsis', 'by Jason Ankeny'], ['110 min.', '1997'], ['addict', 'drugs'], ['Feature', 'Color'], ['accident', 'lawyer'], ['addict', 'lawyer'], ['accident', 'disaster']]\n"
     ]
    }
   ],
   "source": [
    "sorted_label_index, xpaths, txts = txtExtractor(htmlFile, model, safeurl=url) #remove all a's that are diff domain to safeurl\n",
    "print(sorted_label_index[:10])\n",
    "print(xpaths[:10])\n",
    "print(txts[:10])"
   ]
  },
  {
   "cell_type": "code",
   "execution_count": 12,
   "id": "a7190862",
   "metadata": {},
   "outputs": [],
   "source": [
    "groundTruthFP = htmlFile.replace(\"\\\\swde\\\\sourceCode\\\\sourceCode\", \"\\\\swde_HTMLgraphsOLD\").replace(\".htm\", \"\\\\label_index.npy\")\n",
    "groundT = np.load(groundTruthFP)"
   ]
  },
  {
   "cell_type": "code",
   "execution_count": 6,
   "id": "d93ad081",
   "metadata": {},
   "outputs": [
    {
     "name": "stdout",
     "output_type": "stream",
     "text": [
      "74 1738\n",
      "[['Is related to:'\n",
      "  'The War Zone\\xa0 \\n\\t\\t\\t\\t\\t\\t\\t\\t\\t\\t\\t\\t\\t\\t\\t\\t\\t\\t\\t\\t\\t\\t\\t\\t\\t\\t\\t\\t\\t(1999, Tim Roth)']\n",
      " ['accident' 'addict']\n",
      " ['accident' 'drugs']\n",
      " ...\n",
      " ['» In the Spotlight' 'Meditative']\n",
      " ['» In the Spotlight' 'Fathers and Daughters']\n",
      " ['» In the Spotlight' 'Brief Nudity']]\n"
     ]
    }
   ],
   "source": [
    "def top_k_hits(predictions: np.ndarray,\n",
    "               ground_truth: np.ndarray,\n",
    "               k: int) -> np.ndarray:\n",
    "    p = np.asarray(predictions)\n",
    "    g = np.asarray(ground_truth)\n",
    "    if p.ndim != 2 or p.shape[1] != 2 or g.ndim != 2 or g.shape[1] != 2: raise ValueError(\"predictions and ground_truth must be 2D arrays of shape (N, 2).\")\n",
    "\n",
    "    # --- Build adjacency: node -> list of prediction row indices (in rank order) ---\n",
    "    # O(P) pass; avoids O(P * |V|) masking.\n",
    "    adj = defaultdict(list)\n",
    "    for idx, (u, v) in enumerate(p):\n",
    "        adj[u].append(idx)\n",
    "        adj[v].append(idx)\n",
    "\n",
    "    # Only care about nodes that appear in ground truth\n",
    "    nodes_gt = np.unique(g)\n",
    "\n",
    "    # Mark predicted rows that are within top-k for any relevant node\n",
    "    selected_rows = np.zeros(len(p), dtype=bool)\n",
    "    for u in nodes_gt:\n",
    "        rows = adj.get(u)\n",
    "        if rows:\n",
    "            # rows already in rank order; take first k\n",
    "            selected_rows[rows[:k]] = True\n",
    "\n",
    "    # --- Match (undirected) ground-truth edges against selected predicted edges ---\n",
    "    # Canonicalize by sorting each pair.\n",
    "    p_sel_sorted = np.sort(p[selected_rows], axis=1)\n",
    "    gTuple = [tuple(entry) for entry in g]\n",
    "\n",
    "    gMask = np.array([False]*len(g))\n",
    "    for entry in p_sel_sorted:\n",
    "        if tuple(entry) in gTuple:\n",
    "            gMask[gTuple.index(tuple(entry))] = True\n",
    "\n",
    "    return g[gMask], g[~gMask]\n",
    "\n",
    "hits, misses = top_k_hits(sorted_label_index, groundT, 5)\n",
    "print(len(hits), len(misses))\n",
    "mask = np.array([entry in hits for entry in sorted_label_index])\n",
    "txts = np.array(txts)\n",
    "print(txts[mask])\n"
   ]
  },
  {
   "cell_type": "code",
   "execution_count": 14,
   "id": "7add4885",
   "metadata": {},
   "outputs": [
    {
     "name": "stdout",
     "output_type": "stream",
     "text": [
      "61\n",
      "17\n"
     ]
    },
    {
     "data": {
      "text/plain": [
       "[[['amgworkid', 'v155010'], 1],\n",
       " [['attributes', 'highproductionvalues'], 1],\n",
       " [['cinematicprocess', 'panavision'], 1],\n",
       " [['director', 'atomegoyan'], 1],\n",
       " [['flags', 'sexualsituations'], 1],\n",
       " [['genres', 'drama'], 1],\n",
       " [['keywords', 'addict'], 1],\n",
       " [['mpaarating', 'r'], 1],\n",
       " [['mpaareasons', 'forsexualityandsomelanguage'], 1],\n",
       " [['moods', 'inaminorkey'], 1],\n",
       " [['otherrelatedworks', 'isrelatedto'], 1],\n",
       " [['isrelatedto', 'thewarzone'], 1],\n",
       " [['producedby', 'allianceatlantiscommunications'], 1],\n",
       " [['setin', 'britishcolumbiacanada'], 1],\n",
       " [['themes', 'fathersanddaughters'], 1],\n",
       " [['tones', 'bleak'], 1],\n",
       " [['types', 'psychologicaldrama'], 1]]"
      ]
     },
     "execution_count": 14,
     "metadata": {},
     "output_type": "execute_result"
    }
   ],
   "source": [
    "jsonContent = load_json_of_swde_file(htmlFile, \"../..\")\n",
    "htmlFilepth = Path(htmlFile)\n",
    "txtPairs = list(iterate_pairs(jsonContent, htmlFilepth.name))\n",
    "print(len(txtPairs))\n",
    "\n",
    "def top_k_hits_txt(txtPairs, candidateTxtpairs, k, dualDirection=True):\n",
    "    \"\"\"\n",
    "    Checks if key, value edge in txtPairs appears in the top k (w.r.t key) of candidateTxtPairs\"\"\"\n",
    "    found = []\n",
    "    for gttxt1, gttxt2 in txtPairs:\n",
    "        gttxt1, gttxt2 = normalise_text(gttxt1), normalise_text(gttxt2)\n",
    "\n",
    "        # This checks if gttxt1 - gttxt2 is in gttxt1's top k\n",
    "        i = 0\n",
    "        for candidatetxt1, candidatetxt2 in candidateTxtpairs:\n",
    "            if i >= k:\n",
    "                break\n",
    "\n",
    "            candidatetxt1, candidatetxt2 = normalise_text(candidatetxt1), normalise_text(candidatetxt2)\n",
    "            if gttxt1 in candidatetxt1 or gttxt1 in candidatetxt2:\n",
    "                i += 1\n",
    "                if gttxt1 in candidatetxt1 and gttxt2 in candidatetxt2:\n",
    "                    found.append([[gttxt1, gttxt2], i])\n",
    "                    break\n",
    "                elif gttxt2 in candidatetxt1 and gttxt1 in candidatetxt2:\n",
    "                    found.append([[gttxt1, gttxt2], i])\n",
    "                    break\n",
    "        \n",
    "        if dualDirection:\n",
    "            # This checks if gttxt1 - gttxt2 is in gttxt2's top k\n",
    "            j=0\n",
    "            for candidatetxt1, candidatetxt2 in candidateTxtpairs:\n",
    "                if j >= k:\n",
    "                    break\n",
    "\n",
    "                candidatetxt1, candidatetxt2 = normalise_text(candidatetxt1), normalise_text(candidatetxt2)\n",
    "                if gttxt2 in candidatetxt1 or gttxt2 in candidatetxt2:\n",
    "                    j += 1\n",
    "                    if gttxt1 in candidatetxt1 and gttxt2 in candidatetxt2:\n",
    "                        found.append([[gttxt2, gttxt1], j])\n",
    "                        break\n",
    "                    elif gttxt2 in candidatetxt1 and gttxt1 in candidatetxt2:\n",
    "                        found.append([[gttxt2, gttxt1], j])\n",
    "                        break\n",
    "\n",
    "    return found\n",
    "\n",
    "hitstxt = top_k_hits_txt(txtPairs, txts, 1, False)\n",
    "print(len(hitstxt))\n",
    "hitstxt\n"
   ]
  },
  {
   "cell_type": "code",
   "execution_count": null,
   "id": "3633f2a0",
   "metadata": {},
   "outputs": [
    {
     "name": "stdout",
     "output_type": "stream",
     "text": [
      "1\n",
      "3\n",
      "2\n",
      "3\n",
      "3\n",
      "3\n",
      "4\n",
      "3\n",
      "5\n",
      "3\n",
      "10\n",
      "3\n"
     ]
    },
    {
     "name": "stderr",
     "output_type": "stream",
     "text": [
      "C:\\Users\\micha\\AppData\\Local\\Temp\\ipykernel_92248\\4015497192.py:25: MatplotlibDeprecationWarning: The 'labels' parameter of boxplot() has been renamed 'tick_labels' since Matplotlib 3.9; support for the old name will be dropped in 3.11.\n",
      "  plt.boxplot(distributions, labels=[str(k) for k in ks], showmeans=True)\n"
     ]
    },
    {
     "data": {
      "image/png": "[encoded data removed]",
      "text/plain": [
       "<Figure size 900x500 with 1 Axes>"
      ]
     },
     "metadata": {},
     "output_type": "display_data"
    }
   ],
   "source": [
    "SRC_FOLDER1 = Path(\"../../data/swde/sourceCode/sourceCode/movie/movie/movie-allmovie(2000)\")\n",
    "\n",
    "ks = [1,2,3,4,5,10]\n",
    "distributions = []\n",
    "for k in ks:\n",
    "    print(k)\n",
    "    percentageFound = []\n",
    "    html_files = list(SRC_FOLDER1.rglob(\"*.htm\"))\n",
    "    jsonContent = load_json_of_swde_file(htmlFile.__str__(), \"../..\")\n",
    "    \n",
    "    for htmlFile in html_files:\n",
    "        _,_,txts = txtExtractor(htmlFile, model, alreadyConvertedToGraph=htmlFile.__str__().replace(\"\\\\swde\\\\sourceCode\\\\sourceCode\", \"\\\\swde_HTMLgraphsOLD\").replace(\".htm\", \"\"))\n",
    "        txtPairs = list(iterate_pairs(jsonContent, htmlFile.name))\n",
    "        hitstxt = top_k_hits_txt(txtPairs, txts, k)\n",
    "\n",
    "        percentageFound.append(len(hitstxt)/(2*len(txtPairs)))\n",
    "\n",
    "        if len(percentageFound) % 200 == 0:\n",
    "            print(len(percentageFound))\n",
    "\n",
    "    distributions.append(percentageFound)\n",
    "\n",
    "plt.figure(figsize=(9, 5))\n",
    "plt.boxplot(distributions, labels=[str(k) for k in ks], showmeans=True)\n",
    "plt.xlabel(\"k (top-k per node/text endpoint)\")\n",
    "plt.ylabel(\"Recall@k per document (%)\")\n",
    "plt.title(\"Per-document Recall@k distribution across HTML files\")\n",
    "plt.tight_layout()\n",
    "plt.show()"
   ]
  },
  {
   "cell_type": "markdown",
   "id": "475791af",
   "metadata": {},
   "source": [
    "1) see how many external links I am picking up, if its an acceptable amount, dw about it\n",
    "filter out links in html that point to external webpages\n",
    "\n",
    "2) compare this to just putting it all into an llm. make this a prompting model"
   ]
  }
 ],
 "metadata": {
  "kernelspec": {
   "display_name": "Python 3",
   "language": "python",
   "name": "python3"
  },
  "language_info": {
   "codemirror_mode": {
    "name": "ipython",
    "version": 3
   },
   "file_extension": ".py",
   "mimetype": "text/x-python",
   "name": "python",
   "nbconvert_exporter": "python",
   "pygments_lexer": "ipython3",
   "version": "3.11.9"
  }
 },
 "nbformat": 4,
 "nbformat_minor": 5
}
