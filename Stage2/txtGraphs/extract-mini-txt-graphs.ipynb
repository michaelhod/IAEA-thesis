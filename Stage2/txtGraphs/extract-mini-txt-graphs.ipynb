{
 "cells": [
  {
   "cell_type": "code",
   "execution_count": null,
   "id": "8bde6ac9",
   "metadata": {},
   "outputs": [],
   "source": [
    "import sys\n",
    "sys.path.insert(1, r\"C:/Users/micha/Documents/Imperial Courses/Thesis/IAEA-thesis\")\n",
    "from Stage1.ExtractingGraphs.verifyGraphSize import verify_A_size, import_npz\n",
    "from Stage1.ExtractingGraphs.HTMLtoGraph import EdgeFeatures\n",
    "from Stage1.GAT.GAT import *"
   ]
  }
 ],
 "metadata": {
  "kernelspec": {
   "display_name": "Python 3",
   "language": "python",
   "name": "python3"
  },
  "language_info": {
   "name": "python",
   "version": "3.11.9"
  }
 },
 "nbformat": 4,
 "nbformat_minor": 5
}
