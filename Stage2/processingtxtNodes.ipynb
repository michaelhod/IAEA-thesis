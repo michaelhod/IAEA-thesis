{
 "cells": [
  {
   "cell_type": "code",
   "execution_count": 1,
   "id": "c43f929a",
   "metadata": {},
   "outputs": [
    {
     "name": "stderr",
     "output_type": "stream",
     "text": [
      "/vol/bitbucket/mjh24/IAEA-thesis/.venv/lib/python3.12/site-packages/tqdm/auto.py:21: TqdmWarning: IProgress not found. Please update jupyter and ipywidgets. See https://ipywidgets.readthedocs.io/en/stable/user_install.html\n",
      "  from .autonotebook import tqdm as notebook_tqdm\n"
     ]
    }
   ],
   "source": [
    "import sys\n",
    "sys.path.insert(1, r\"/vol/bitbucket/mjh24/IAEA-thesis\")\n",
    "from Stage1.GAT.GATModel import GraphAttentionNetwork\n",
    "from Single_Website_Download.Download import main as downloadHTML\n",
    "import torch\n",
    "from Stage1.ExtractingGraphs.seleniumDriver import *\n",
    "from Stage2.txtGraphExtraction.extract_mini_txt_graphs_helper import *\n",
    "from Stage2.txtGraphExtraction.extract_mini_txt_graphs_helper import main as txtExtractor\n",
    "from Stage1.tree_helpers import *\n",
    "from Stage2.txtGraphPruning.display_txt_graph import draw_graph_from_arrays\n",
    "from Stage2.classifyingEdges.classifyingEdges import *\n",
    "from pathlib import Path\n",
    "import numpy as np\n",
    "\n",
    "CLIP_TO_N_EDGES_PER_NODE = 10 # This is to clip all the outgoing edges per node to a certain number"
   ]
  },
  {
   "cell_type": "code",
   "execution_count": 3,
   "id": "99c1952d",
   "metadata": {},
   "outputs": [
    {
     "ename": "FileNotFoundError",
     "evalue": "[Errno 2] No such file or directory: '../../Stage1/GAT/LONG80EPOCH-75f1-newlabelnotitle.pt'",
     "output_type": "error",
     "traceback": [
      "\u001b[31m---------------------------------------------------------------------------\u001b[39m",
      "\u001b[31mFileNotFoundError\u001b[39m                         Traceback (most recent call last)",
      "\u001b[36mCell\u001b[39m\u001b[36m \u001b[39m\u001b[32mIn[3]\u001b[39m\u001b[32m, line 3\u001b[39m\n\u001b[32m      1\u001b[39m \u001b[38;5;66;03m# Load model\u001b[39;00m\n\u001b[32m      2\u001b[39m model = GraphAttentionNetwork(in_dim = \u001b[32m119\u001b[39m, edge_in_dim = \u001b[32m210\u001b[39m, edge_emb_dim = \u001b[32m32\u001b[39m, hidden1 = \u001b[32m32\u001b[39m, hidden2 = \u001b[32m32\u001b[39m, hidden3 = \u001b[32m8\u001b[39m, heads = \u001b[32m2\u001b[39m)\n\u001b[32m----> \u001b[39m\u001b[32m3\u001b[39m state_dict = \u001b[43mtorch\u001b[49m\u001b[43m.\u001b[49m\u001b[43mload\u001b[49m\u001b[43m(\u001b[49m\u001b[33;43m\"\u001b[39;49m\u001b[33;43m../../Stage1/GAT/LONG80EPOCH-75f1-newlabelnotitle.pt\u001b[39;49m\u001b[33;43m\"\u001b[39;49m\u001b[43m,\u001b[49m\u001b[43m \u001b[49m\u001b[43mmap_location\u001b[49m\u001b[43m=\u001b[49m\u001b[43mtorch\u001b[49m\u001b[43m.\u001b[49m\u001b[43mdevice\u001b[49m\u001b[43m(\u001b[49m\u001b[43mdevice\u001b[49m\u001b[43m)\u001b[49m\u001b[43m)\u001b[49m\n\u001b[32m      4\u001b[39m model.load_state_dict(state_dict, strict=\u001b[38;5;28;01mFalse\u001b[39;00m)\n\u001b[32m      5\u001b[39m model.to(device)\n",
      "\u001b[36mFile \u001b[39m\u001b[32m/vol/bitbucket/mjh24/IAEA-thesis/.venv/lib/python3.12/site-packages/torch/serialization.py:1479\u001b[39m, in \u001b[36mload\u001b[39m\u001b[34m(f, map_location, pickle_module, weights_only, mmap, **pickle_load_args)\u001b[39m\n\u001b[32m   1476\u001b[39m \u001b[38;5;28;01mif\u001b[39;00m \u001b[33m\"\u001b[39m\u001b[33mencoding\u001b[39m\u001b[33m\"\u001b[39m \u001b[38;5;129;01mnot\u001b[39;00m \u001b[38;5;129;01min\u001b[39;00m pickle_load_args.keys():\n\u001b[32m   1477\u001b[39m     pickle_load_args[\u001b[33m\"\u001b[39m\u001b[33mencoding\u001b[39m\u001b[33m\"\u001b[39m] = \u001b[33m\"\u001b[39m\u001b[33mutf-8\u001b[39m\u001b[33m\"\u001b[39m\n\u001b[32m-> \u001b[39m\u001b[32m1479\u001b[39m \u001b[38;5;28;01mwith\u001b[39;00m \u001b[43m_open_file_like\u001b[49m\u001b[43m(\u001b[49m\u001b[43mf\u001b[49m\u001b[43m,\u001b[49m\u001b[43m \u001b[49m\u001b[33;43m\"\u001b[39;49m\u001b[33;43mrb\u001b[39;49m\u001b[33;43m\"\u001b[39;49m\u001b[43m)\u001b[49m \u001b[38;5;28;01mas\u001b[39;00m opened_file:\n\u001b[32m   1480\u001b[39m     \u001b[38;5;28;01mif\u001b[39;00m _is_zipfile(opened_file):\n\u001b[32m   1481\u001b[39m         \u001b[38;5;66;03m# The zipfile reader is going to advance the current file position.\u001b[39;00m\n\u001b[32m   1482\u001b[39m         \u001b[38;5;66;03m# If we want to actually tail call to torch.jit.load, we need to\u001b[39;00m\n\u001b[32m   1483\u001b[39m         \u001b[38;5;66;03m# reset back to the original position.\u001b[39;00m\n\u001b[32m   1484\u001b[39m         orig_position = opened_file.tell()\n",
      "\u001b[36mFile \u001b[39m\u001b[32m/vol/bitbucket/mjh24/IAEA-thesis/.venv/lib/python3.12/site-packages/torch/serialization.py:759\u001b[39m, in \u001b[36m_open_file_like\u001b[39m\u001b[34m(name_or_buffer, mode)\u001b[39m\n\u001b[32m    757\u001b[39m \u001b[38;5;28;01mdef\u001b[39;00m\u001b[38;5;250m \u001b[39m\u001b[34m_open_file_like\u001b[39m(name_or_buffer: FileLike, mode: \u001b[38;5;28mstr\u001b[39m) -> _opener[IO[\u001b[38;5;28mbytes\u001b[39m]]:\n\u001b[32m    758\u001b[39m     \u001b[38;5;28;01mif\u001b[39;00m _is_path(name_or_buffer):\n\u001b[32m--> \u001b[39m\u001b[32m759\u001b[39m         \u001b[38;5;28;01mreturn\u001b[39;00m \u001b[43m_open_file\u001b[49m\u001b[43m(\u001b[49m\u001b[43mname_or_buffer\u001b[49m\u001b[43m,\u001b[49m\u001b[43m \u001b[49m\u001b[43mmode\u001b[49m\u001b[43m)\u001b[49m\n\u001b[32m    760\u001b[39m     \u001b[38;5;28;01melse\u001b[39;00m:\n\u001b[32m    761\u001b[39m         \u001b[38;5;28;01mif\u001b[39;00m \u001b[33m\"\u001b[39m\u001b[33mw\u001b[39m\u001b[33m\"\u001b[39m \u001b[38;5;129;01min\u001b[39;00m mode:\n",
      "\u001b[36mFile \u001b[39m\u001b[32m/vol/bitbucket/mjh24/IAEA-thesis/.venv/lib/python3.12/site-packages/torch/serialization.py:740\u001b[39m, in \u001b[36m_open_file.__init__\u001b[39m\u001b[34m(self, name, mode)\u001b[39m\n\u001b[32m    739\u001b[39m \u001b[38;5;28;01mdef\u001b[39;00m\u001b[38;5;250m \u001b[39m\u001b[34m__init__\u001b[39m(\u001b[38;5;28mself\u001b[39m, name: Union[\u001b[38;5;28mstr\u001b[39m, os.PathLike[\u001b[38;5;28mstr\u001b[39m]], mode: \u001b[38;5;28mstr\u001b[39m) -> \u001b[38;5;28;01mNone\u001b[39;00m:\n\u001b[32m--> \u001b[39m\u001b[32m740\u001b[39m     \u001b[38;5;28msuper\u001b[39m().\u001b[34m__init__\u001b[39m(\u001b[38;5;28;43mopen\u001b[39;49m\u001b[43m(\u001b[49m\u001b[43mname\u001b[49m\u001b[43m,\u001b[49m\u001b[43m \u001b[49m\u001b[43mmode\u001b[49m\u001b[43m)\u001b[49m)\n",
      "\u001b[31mFileNotFoundError\u001b[39m: [Errno 2] No such file or directory: '../../Stage1/GAT/LONG80EPOCH-75f1-newlabelnotitle.pt'"
     ]
    }
   ],
   "source": [
    "# Load model\n",
    "model = GraphAttentionNetwork(in_dim = 119, edge_in_dim = 210, edge_emb_dim = 32, hidden1 = 32, hidden2 = 32, hidden3 = 8, heads = 2)\n",
    "state_dict = torch.load(\"../../Stage1/GAT/LONG80EPOCH-75f1-newlabelnotitle.pt\", map_location=torch.device(device))\n",
    "model.load_state_dict(state_dict, strict=False)\n",
    "model.to(device)\n",
    "\n",
    "# Load the website\n",
    "# url = \"C:\\\\Users\\\\micha\\\\Documents\\\\Imperial Courses\\\\Thesis\\\\IAEA-thesis\\\\data\\\\swde\\\\sourceCode\\\\sourceCode\\\\movie\\\\movie\\\\movie-allmovie(2000)\\\\0000.htm\"\n",
    "# url = r\"https://www.nucnet.org/news/parliament-resolution-paves-way-for-establishing-nuclear-energy-legislation-6-4-2024\"\n",
    "# url = \"https://westinghousenuclear.com/\"\n",
    "# url = \"https://www.football.co.uk/news/leeds-vs-bournemouth-premier-league-team-news-lineups-prediction/781112/\"\n",
    "# url = r\"https://www.bbc.co.uk/news/live/cev28rvzlv1t\"\n",
    "url = \"https://www.nfl.com/teams/\" # Great to show teams and structured data\n",
    "# url = \"https://www.energy.gov/ne/articles/advantages-and-challenges-nuclear-energy\" #Great to show semi structured webpages with titles\n",
    "# url = \"https://westinghousenuclear.com/nuclear-fuel/fuel-fabrication-operations/\"\n",
    "# url = \"https://www.livescore.com/en/football/england/premier-league/bournemouth-vs-leicester-city/1250940/lineups/\"\n",
    "htmlFile = Path(\"C:/Users/micha/Documents/Imperial Courses/Thesis/IAEA-thesis/data/websites/test.html\")\n",
    "downloadHTML(url,1,htmlFile)"
   ]
  },
  {
   "cell_type": "code",
   "execution_count": null,
   "id": "d4f9da0b",
   "metadata": {},
   "outputs": [],
   "source": [
    "# Get label edges from text nodes in the website\n",
    "REMOVE_DUPES=False\n",
    "sorted_label_index, xpaths, txts, probs = txtExtractor(htmlFile, model, remove_dupes=REMOVE_DUPES)\n",
    "\n",
    "# Normalise the text\n",
    "normtxt = []\n",
    "for a, b in txts:\n",
    "    normtxt.append([normalise_text(a, \"'\\\\s\"), normalise_text(b, \"'\\\\s\")])\n",
    "txts, probs, sorted_label_index, xpaths = np.array(normtxt), np.array(probs), np.array(sorted_label_index), np.array(xpaths)\n"
   ]
  },
  {
   "cell_type": "code",
   "execution_count": null,
   "id": "e0e34856",
   "metadata": {},
   "outputs": [],
   "source": [
    "# Remove all html instructional labels\n",
    "mask = clean_instructional_text(sample_pairs, batch_size=len(sample_pairs))\n",
    "mask = np.array(mask, dtype=bool)\n",
    "\n",
    "txts, probs, sorted_label_index, xpaths = txts[mask], probs[mask], sorted_label_index[mask], xpaths[mask]"
   ]
  },
  {
   "cell_type": "code",
   "execution_count": null,
   "id": "c7977718",
   "metadata": {},
   "outputs": [],
   "source": [
    "# -- RUN THE MAIN PRUNING MASK --\n",
    "mask = main(probs, sorted_label_index)\n",
    "\n",
    "# Concatanate and apply masks if we want specific text\n",
    "mask = mask #& filterTextMask(txts, \"houston\", False) #& mask = keepTopKMask(txts, 1)\n",
    "print(len(sorted_label_index), \" -> \", len(sorted_label_index[mask]))\n",
    "txts, probs, sorted_label_index, xpaths = txts[mask], probs[mask], sorted_label_index[mask], xpaths[mask]\n",
    "# -- PRUNING FINISHED --"
   ]
  },
  {
   "cell_type": "code",
   "execution_count": null,
   "id": "907eb62c",
   "metadata": {},
   "outputs": [],
   "source": [
    "# Display the graph\n",
    "\n",
    "numToShow=-1\n",
    "for row in zip(sorted_label_index[:numToShow], xpaths[:numToShow], txts[:numToShow], probs[:numToShow]):\n",
    "    print(row[2])\n",
    "    # print(\"\\t\", row[3])\n",
    "    # print(\"\\t\", row[0])\n",
    "    # print(\"\\t\", row[1])\n",
    "\n",
    "draw_graph_from_arrays(\n",
    "    txt_edge_pairs=txts[:numToShow],\n",
    "    id_edge_pairs=sorted_label_index[:numToShow],\n",
    "    xpath_edge_pairs=xpaths[:numToShow],\n",
    "    probs=probs[:numToShow],\n",
    "    layout=\"spring\",\n",
    "    rankdir=\"TB\",         # or \"TB\" for top→bottom\n",
    "    layer_spacing=5.0,    # spread layers further\n",
    "    node_spacing=2.5,     # spread nodes within a layer\n",
    "    figsize=(16, 10),\n",
    "    title=\"My Graph (hierarchical)\",\n",
    ")"
   ]
  },
  {
   "cell_type": "code",
   "execution_count": null,
   "id": "90ce0ebf",
   "metadata": {},
   "outputs": [],
   "source": []
  }
 ],
 "metadata": {
  "kernelspec": {
   "display_name": ".venv",
   "language": "python",
   "name": "python3"
  },
  "language_info": {
   "codemirror_mode": {
    "name": "ipython",
    "version": 3
   },
   "file_extension": ".py",
   "mimetype": "text/x-python",
   "name": "python",
   "nbconvert_exporter": "python",
   "pygments_lexer": "ipython3",
   "version": "3.12.3"
  }
 },
 "nbformat": 4,
 "nbformat_minor": 5
}
